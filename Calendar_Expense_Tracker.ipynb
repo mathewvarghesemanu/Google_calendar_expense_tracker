{
 "cells": [
  {
   "cell_type": "code",
   "execution_count": null,
   "id": "b2676e60",
   "metadata": {},
   "outputs": [],
   "source": [
    "## Program to find all the expenses in dollars from Google calendar"
   ]
  },
  {
   "cell_type": "code",
   "execution_count": 270,
   "id": "f77e4e35",
   "metadata": {},
   "outputs": [
    {
     "name": "stdout",
     "output_type": "stream",
     "text": [
      "Collecting csv-ical\n",
      "  Downloading csv_ical-2.0.2-py3-none-any.whl (5.0 kB)\n",
      "Collecting icalendar<5.0.0,>=4.0.1\n",
      "  Downloading icalendar-4.0.9-py2.py3-none-any.whl (74 kB)\n",
      "Requirement already satisfied: python-dateutil in c:\\programdata\\anaconda3\\lib\\site-packages (from icalendar<5.0.0,>=4.0.1->csv-ical) (2.8.1)\n",
      "Requirement already satisfied: pytz in c:\\programdata\\anaconda3\\lib\\site-packages (from icalendar<5.0.0,>=4.0.1->csv-ical) (2021.1)\n",
      "Requirement already satisfied: six>=1.5 in c:\\programdata\\anaconda3\\lib\\site-packages (from python-dateutil->icalendar<5.0.0,>=4.0.1->csv-ical) (1.15.0)\n",
      "Installing collected packages: icalendar, csv-ical\n",
      "Successfully installed csv-ical-2.0.2 icalendar-4.0.9\n"
     ]
    }
   ],
   "source": [
    "!pip install csv-ical"
   ]
  },
  {
   "cell_type": "code",
   "execution_count": 271,
   "id": "e3bdd2e3",
   "metadata": {},
   "outputs": [],
   "source": [
    "from csv_ical import Convert\n",
    "convert = Convert()\n",
    "convert.CSV_FILE_LOCATION = \"test.csv\"\n",
    "convert.SAVE_LOCATION = \"Spending_flrup15fdj6qe449a36batled0@group.calendar.google.com.ics\"\n",
    "convert.read_ical(convert.SAVE_LOCATION)\n",
    "convert.make_csv()\n",
    "convert.save_csv(convert.CSV_FILE_LOCATION)"
   ]
  },
  {
   "cell_type": "code",
   "execution_count": null,
   "id": "37cce671",
   "metadata": {},
   "outputs": [],
   "source": [
    "#Imports\n",
    "import pandas as pd\n",
    "import re"
   ]
  },
  {
   "cell_type": "code",
   "execution_count": 272,
   "id": "73287181",
   "metadata": {},
   "outputs": [
    {
     "data": {
      "text/html": [
       "<div>\n",
       "<style scoped>\n",
       "    .dataframe tbody tr th:only-of-type {\n",
       "        vertical-align: middle;\n",
       "    }\n",
       "\n",
       "    .dataframe tbody tr th {\n",
       "        vertical-align: top;\n",
       "    }\n",
       "\n",
       "    .dataframe thead th {\n",
       "        text-align: right;\n",
       "    }\n",
       "</style>\n",
       "<table border=\"1\" class=\"dataframe\">\n",
       "  <thead>\n",
       "    <tr style=\"text-align: right;\">\n",
       "      <th></th>\n",
       "      <th>vishnu santhosh-37</th>\n",
       "      <th>2018-01-08</th>\n",
       "      <th>2018-01-09</th>\n",
       "      <th>Unnamed: 3</th>\n",
       "      <th>Unnamed: 4</th>\n",
       "    </tr>\n",
       "  </thead>\n",
       "  <tbody>\n",
       "    <tr>\n",
       "      <th>0</th>\n",
       "      <td>abhijith-44</td>\n",
       "      <td>2018-01-08</td>\n",
       "      <td>2018-01-09</td>\n",
       "      <td>NaN</td>\n",
       "      <td>NaN</td>\n",
       "    </tr>\n",
       "    <tr>\n",
       "      <th>1</th>\n",
       "      <td>44-food</td>\n",
       "      <td>2018-01-08</td>\n",
       "      <td>2018-01-09</td>\n",
       "      <td>NaN</td>\n",
       "      <td>NaN</td>\n",
       "    </tr>\n",
       "    <tr>\n",
       "      <th>2</th>\n",
       "      <td>15-bus</td>\n",
       "      <td>2018-01-08</td>\n",
       "      <td>2018-01-09</td>\n",
       "      <td>NaN</td>\n",
       "      <td>NaN</td>\n",
       "    </tr>\n",
       "    <tr>\n",
       "      <th>3</th>\n",
       "      <td>650-bag</td>\n",
       "      <td>2018-01-06</td>\n",
       "      <td>2018-01-07</td>\n",
       "      <td>NaN</td>\n",
       "      <td>NaN</td>\n",
       "    </tr>\n",
       "    <tr>\n",
       "      <th>4</th>\n",
       "      <td>15-bus</td>\n",
       "      <td>2018-01-11</td>\n",
       "      <td>2018-01-12</td>\n",
       "      <td>NaN</td>\n",
       "      <td>NaN</td>\n",
       "    </tr>\n",
       "  </tbody>\n",
       "</table>\n",
       "</div>"
      ],
      "text/plain": [
       "  vishnu santhosh-37  2018-01-08  2018-01-09 Unnamed: 3  Unnamed: 4\n",
       "0        abhijith-44  2018-01-08  2018-01-09        NaN         NaN\n",
       "1            44-food  2018-01-08  2018-01-09        NaN         NaN\n",
       "2             15-bus  2018-01-08  2018-01-09        NaN         NaN\n",
       "3            650-bag  2018-01-06  2018-01-07        NaN         NaN\n",
       "4             15-bus  2018-01-11  2018-01-12        NaN         NaN"
      ]
     },
     "execution_count": 272,
     "metadata": {},
     "output_type": "execute_result"
    }
   ],
   "source": [
    "# Open CSV file\n",
    "df=pd.read_csv(\"calendar_expense.csv\")\n",
    "df.head()"
   ]
  },
  {
   "cell_type": "code",
   "execution_count": 244,
   "id": "0a971f31",
   "metadata": {},
   "outputs": [],
   "source": [
    "expenses=df[\"summary\"] \n",
    "latest_expenses=list(expenses[250:])\n",
    "\n",
    "# List variables  for storing parsed values\n",
    "amt_list=[]\n",
    "description_list=[]\n",
    "\n",
    "for index,item in enumerate(list(latest_expenses)): # Iterating through all the Latest expenses\n",
    "    symbol=re.findall(\"\\$+\",item) # Finding if the specific expense starts with dollar symbol\n",
    "    if symbol:\n",
    "        if symbol[0]=='$':\n",
    "            expense_raw_list.append(item)\n",
    "            amt=re.findall(\"\\d*\\.?\\d+\",item) # Finding the numbers in the Description\n",
    "            if amt:\n",
    "                amt_list.append(float(' '.join(amt[0]).replace(\" \",\"\"))) # Adding amount to a list\n",
    "            description=re.findall(\"[A-Z]*[a-z]*[A-Z]*\",item) # Finding the description\n",
    "            else:\n",
    "                print(item) # Printing item for debugging\n",
    "            if description:\n",
    "                description_list.append(' '.join(description)) # Adding the description to a list\n",
    "            else:\n",
    "                print(item)# Printing item for debugging\n"
   ]
  },
  {
   "cell_type": "code",
   "execution_count": 246,
   "id": "d808dcc5",
   "metadata": {},
   "outputs": [
    {
     "name": "stdout",
     "output_type": "stream",
     "text": [
      "137 137 137\n"
     ]
    }
   ],
   "source": [
    "print(len(expense_raw_list),len(amt_list),len(description_list)) # Printing the length for checking compatibility in joining\n",
    "description_li=list(map(lambda a: a.strip(),description_list)) # Removing spaces\n",
    "description_li=list(map(lambda a: re.sub(\"\\s+\",\" \",a),description_li)) # Substituting multiple spaces with one"
   ]
  },
  {
   "cell_type": "code",
   "execution_count": 235,
   "id": "42e65480",
   "metadata": {
    "scrolled": true
   },
   "outputs": [
    {
     "data": {
      "text/html": [
       "<div>\n",
       "<style scoped>\n",
       "    .dataframe tbody tr th:only-of-type {\n",
       "        vertical-align: middle;\n",
       "    }\n",
       "\n",
       "    .dataframe tbody tr th {\n",
       "        vertical-align: top;\n",
       "    }\n",
       "\n",
       "    .dataframe thead th {\n",
       "        text-align: right;\n",
       "    }\n",
       "</style>\n",
       "<table border=\"1\" class=\"dataframe\">\n",
       "  <thead>\n",
       "    <tr style=\"text-align: right;\">\n",
       "      <th></th>\n",
       "      <th>amt</th>\n",
       "      <th>description</th>\n",
       "    </tr>\n",
       "  </thead>\n",
       "  <tbody>\n",
       "    <tr>\n",
       "      <th>0</th>\n",
       "      <td>35.0</td>\n",
       "      <td>rainier trek registration</td>\n",
       "    </tr>\n",
       "    <tr>\n",
       "      <th>1</th>\n",
       "      <td>8.0</td>\n",
       "      <td>Burger</td>\n",
       "    </tr>\n",
       "    <tr>\n",
       "      <th>2</th>\n",
       "      <td>3.0</td>\n",
       "      <td>HDMI mini cable</td>\n",
       "    </tr>\n",
       "    <tr>\n",
       "      <th>3</th>\n",
       "      <td>20.0</td>\n",
       "      <td>keyboard</td>\n",
       "    </tr>\n",
       "    <tr>\n",
       "      <th>4</th>\n",
       "      <td>8.5</td>\n",
       "      <td>Chipotle chicken bowl</td>\n",
       "    </tr>\n",
       "  </tbody>\n",
       "</table>\n",
       "</div>"
      ],
      "text/plain": [
       "    amt                description\n",
       "0  35.0  rainier trek registration\n",
       "1   8.0                     Burger\n",
       "2   3.0            HDMI mini cable\n",
       "3  20.0                   keyboard\n",
       "4   8.5      Chipotle chicken bowl"
      ]
     },
     "execution_count": 235,
     "metadata": {},
     "output_type": "execute_result"
    }
   ],
   "source": [
    "op=pd.DataFrame() # Declaring an empty Data frame for storing the Cleaned data\n",
    "op[\"amt\"]=amt_list \n",
    "op[\"description\"]=description_li\n",
    "op.head()\n"
   ]
  },
  {
   "cell_type": "code",
   "execution_count": 236,
   "id": "66bd9db8",
   "metadata": {},
   "outputs": [],
   "source": [
    "op.to_csv(\"expense_cleaned.csv\") # Saving the Cleaned data"
   ]
  },
  {
   "cell_type": "code",
   "execution_count": 255,
   "id": "9976a7bc",
   "metadata": {},
   "outputs": [
    {
     "data": {
      "text/plain": [
       "13695.840000000002"
      ]
     },
     "execution_count": 255,
     "metadata": {},
     "output_type": "execute_result"
    }
   ],
   "source": [
    "# Getting the sum of all the amounts\n",
    "s=0\n",
    "for i in amt_list:\n",
    "   s=s+float(i)\n",
    "s"
   ]
  },
  {
   "cell_type": "code",
   "execution_count": 269,
   "id": "f358eaa8",
   "metadata": {},
   "outputs": [
    {
     "name": "stdout",
     "output_type": "stream",
     "text": [
      "3561.8\n"
     ]
    },
    {
     "data": {
      "text/html": [
       "<div>\n",
       "<style scoped>\n",
       "    .dataframe tbody tr th:only-of-type {\n",
       "        vertical-align: middle;\n",
       "    }\n",
       "\n",
       "    .dataframe tbody tr th {\n",
       "        vertical-align: top;\n",
       "    }\n",
       "\n",
       "    .dataframe thead th {\n",
       "        text-align: right;\n",
       "    }\n",
       "</style>\n",
       "<table border=\"1\" class=\"dataframe\">\n",
       "  <thead>\n",
       "    <tr style=\"text-align: right;\">\n",
       "      <th></th>\n",
       "      <th>amt</th>\n",
       "      <th>description</th>\n",
       "      <th>filter</th>\n",
       "    </tr>\n",
       "  </thead>\n",
       "  <tbody>\n",
       "    <tr>\n",
       "      <th>61</th>\n",
       "      <td>328.00</td>\n",
       "      <td>bicycle Walmart</td>\n",
       "      <td>False</td>\n",
       "    </tr>\n",
       "    <tr>\n",
       "      <th>127</th>\n",
       "      <td>200.00</td>\n",
       "      <td>Sreejith debt</td>\n",
       "      <td>False</td>\n",
       "    </tr>\n",
       "    <tr>\n",
       "      <th>75</th>\n",
       "      <td>150.00</td>\n",
       "      <td>Bank of America ATM withdrawal</td>\n",
       "      <td>False</td>\n",
       "    </tr>\n",
       "    <tr>\n",
       "      <th>37</th>\n",
       "      <td>150.00</td>\n",
       "      <td>Decathlon shoes raincoat</td>\n",
       "      <td>False</td>\n",
       "    </tr>\n",
       "    <tr>\n",
       "      <th>62</th>\n",
       "      <td>139.00</td>\n",
       "      <td>Mountain warehouse purchase</td>\n",
       "      <td>False</td>\n",
       "    </tr>\n",
       "    <tr>\n",
       "      <th>...</th>\n",
       "      <td>...</td>\n",
       "      <td>...</td>\n",
       "      <td>...</td>\n",
       "    </tr>\n",
       "    <tr>\n",
       "      <th>85</th>\n",
       "      <td>2.00</td>\n",
       "      <td>ECE vending machine</td>\n",
       "      <td>False</td>\n",
       "    </tr>\n",
       "    <tr>\n",
       "      <th>9</th>\n",
       "      <td>2.00</td>\n",
       "      <td>wending machine</td>\n",
       "      <td>False</td>\n",
       "    </tr>\n",
       "    <tr>\n",
       "      <th>17</th>\n",
       "      <td>2.00</td>\n",
       "      <td>canteen wending</td>\n",
       "      <td>False</td>\n",
       "    </tr>\n",
       "    <tr>\n",
       "      <th>7</th>\n",
       "      <td>2.00</td>\n",
       "      <td>nail clipper</td>\n",
       "      <td>False</td>\n",
       "    </tr>\n",
       "    <tr>\n",
       "      <th>123</th>\n",
       "      <td>1.18</td>\n",
       "      <td>totalvr xyz</td>\n",
       "      <td>False</td>\n",
       "    </tr>\n",
       "  </tbody>\n",
       "</table>\n",
       "<p>106 rows × 3 columns</p>\n",
       "</div>"
      ],
      "text/plain": [
       "        amt                     description  filter\n",
       "61   328.00                 bicycle Walmart   False\n",
       "127  200.00                   Sreejith debt   False\n",
       "75   150.00  Bank of America ATM withdrawal   False\n",
       "37   150.00        Decathlon shoes raincoat   False\n",
       "62   139.00     Mountain warehouse purchase   False\n",
       "..      ...                             ...     ...\n",
       "85     2.00             ECE vending machine   False\n",
       "9      2.00                 wending machine   False\n",
       "17     2.00                 canteen wending   False\n",
       "7      2.00                    nail clipper   False\n",
       "123    1.18                     totalvr xyz   False\n",
       "\n",
       "[106 rows x 3 columns]"
      ]
     },
     "execution_count": 269,
     "metadata": {},
     "output_type": "execute_result"
    }
   ],
   "source": [
    "reject_list=[\"received\",\"transferred\",\"deposited\", \"credit\",\"refund\",\"xps\",\"hfs\",\"rent\",\"fees\",\"fitbit\",\"allwyn\",\"reward\"] # Reject list for removing some Ross\n",
    "temp_list=[]\n",
    "for index,item in enumerate(op[\"description\"]): # Looping through items in description\n",
    "    temp_list.append(any(words in item.lower() for words in reject_list)) # Boolean checking for substring matching\n",
    "op[\"filter\"]=temp_list # Creating a new column with the Boolean values\n",
    "filtered_op=op[op[\"filter\"]==False] # Filtering the frame using the Boolean value\n",
    "print(sum(filtered_op[\"amt\"]))\n",
    "filtered_op.sort_values(\"amt\", ascending=False) # Trending the values in ascending order after bullion\n"
   ]
  }
 ],
 "metadata": {
  "kernelspec": {
   "display_name": "Python 3",
   "language": "python",
   "name": "python3"
  },
  "language_info": {
   "codemirror_mode": {
    "name": "ipython",
    "version": 3
   },
   "file_extension": ".py",
   "mimetype": "text/x-python",
   "name": "python",
   "nbconvert_exporter": "python",
   "pygments_lexer": "ipython3",
   "version": "3.8.8"
  }
 },
 "nbformat": 4,
 "nbformat_minor": 5
}
